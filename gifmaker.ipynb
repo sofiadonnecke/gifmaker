{
 "cells": [
  {
   "cell_type": "code",
   "execution_count": 1,
   "id": "monthly-calibration",
   "metadata": {},
   "outputs": [],
   "source": [
    "import numpy as np\n",
    "import matplotlib.pyplot as plt\n",
    "import pandas as pd\n",
    "import imageio\n",
    "import os"
   ]
  },
  {
   "cell_type": "code",
   "execution_count": 2,
   "id": "signal-reverse",
   "metadata": {},
   "outputs": [],
   "source": [
    "data=[]\n",
    "concs=[]\n",
    "for i in np.arange(1,8):\n",
    "    data.append(pd.read_excel('sampledata.xlsx', f'Sheet{i}'))\n",
    "for i in data:\n",
    "    concs.append(i.iloc[0][2])"
   ]
  },
  {
   "cell_type": "code",
   "execution_count": 3,
   "id": "cardiac-debut",
   "metadata": {},
   "outputs": [],
   "source": [
    "#creat GIF\n",
    "filenames=[]\n",
    "orders = np.linspace(0,1,100)\n",
    "poisons = np.linspace(0,0.015,50)\n",
    "for order in orders:\n",
    "    for i,sheet in enumerate(data):\n",
    "        plt.plot(sheet['t']*concs[i]**order,sheet['c/c0'], linestyle='--',linewidth=1, marker='o', label=f'{concs[i]}')\n",
    "        plt.legend(frameon=False)\n",
    "        ax=plt.gca()\n",
    "        ax.spines['right'].set_visible(False)\n",
    "        ax.spines['top'].set_visible(False)\n",
    "        ax.set_xlabel(f't[cat]$^{{{order:.1f}}}$')\n",
    "    filename = f'{order}.png'\n",
    "    filenames.append(filename)\n",
    "    \n",
    "    # save frame\n",
    "    plt.savefig(filename,dpi=200)\n",
    "    plt.close()\n",
    "for poison in poisons:\n",
    "    for i,sheet in enumerate(data):\n",
    "        plt.plot(sheet['t']*(concs[i]-poison)**order,sheet['c/c0'], linestyle='--',linewidth=1, marker='o', label=f'{concs[i]}')\n",
    "        plt.legend(frameon=False)\n",
    "        ax=plt.gca()\n",
    "        ax.spines['right'].set_visible(False)\n",
    "        ax.spines['top'].set_visible(False)\n",
    "        ax.set_xlabel(f't([cat]-{poison:.3f})$^{{{order:.1f}}}$')\n",
    "    filename = f'{order}_{poison}.png'\n",
    "    filenames.append(filename)\n",
    "    \n",
    "    # save frame\n",
    "    plt.savefig(filename,dpi=200)\n",
    "    plt.close()\n",
    "\n",
    "# build gif\n",
    "with imageio.get_writer('vtna.gif', mode='I') as writer:\n",
    "    for filename in filenames:\n",
    "        image = imageio.imread(filename)\n",
    "        writer.append_data(image)\n",
    "        \n",
    "# Remove files\n",
    "for filename in set(filenames):\n",
    "    os.remove(filename)"
   ]
  },
  {
   "cell_type": "code",
   "execution_count": 117,
   "id": "interesting-trout",
   "metadata": {},
   "outputs": [],
   "source": [
    "#CREATE Poisons gif\n",
    "poisons = np.linspace(0,0.015,50)\n",
    "order=1\n",
    "filenames=[]\n",
    "for poison in poisons:\n",
    "    for i,sheet in enumerate(data):\n",
    "        plt.plot(sheet['t']*(concs[i]-poison)**order,sheet['c/c0'], linestyle='--',linewidth=1, marker='o', label=f'{concs[i]}')\n",
    "        plt.legend(frameon=False)\n",
    "        ax=plt.gca()\n",
    "        ax.spines['right'].set_visible(False)\n",
    "        ax.spines['top'].set_visible(False)\n",
    "        ax.set_xlabel(f't([cat]-{poison:.3f})$^{{{order:.1f}}}$')\n",
    "    filename = f'{poison}.png'\n",
    "    filenames.append(filename)\n",
    "    \n",
    "    # save frame\n",
    "    plt.savefig(filename,dpi=200)\n",
    "    plt.close()\n",
    "# build gif\n",
    "with imageio.get_writer('poison.gif', mode='I') as writer:\n",
    "    for filename in filenames:\n",
    "        image = imageio.imread(filename)\n",
    "        writer.append_data(image)\n",
    "        \n",
    "# Remove files\n",
    "for filename in set(filenames):\n",
    "    os.remove(filename)"
   ]
  },
  {
   "cell_type": "code",
   "execution_count": null,
   "id": "front-guatemala",
   "metadata": {},
   "outputs": [],
   "source": []
  }
 ],
 "metadata": {
  "kernelspec": {
   "display_name": "Python 3",
   "language": "python",
   "name": "python3"
  },
  "language_info": {
   "codemirror_mode": {
    "name": "ipython",
    "version": 3
   },
   "file_extension": ".py",
   "mimetype": "text/x-python",
   "name": "python",
   "nbconvert_exporter": "python",
   "pygments_lexer": "ipython3",
   "version": "3.8.8"
  }
 },
 "nbformat": 4,
 "nbformat_minor": 5
}
